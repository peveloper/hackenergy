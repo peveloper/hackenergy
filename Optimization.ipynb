{
 "cells": [
  {
   "cell_type": "code",
   "execution_count": 8,
   "metadata": {
    "collapsed": true
   },
   "outputs": [],
   "source": [
    "import pandas as pd\n",
    "import numpy as np\n",
    "import matplotlib.pyplot as plt\n",
    "import datetime\n",
    "\n",
    "from sklearn.externals import joblib\n",
    "\n",
    "from statsmodels.tsa.arima_model import ARIMA\n",
    "from scipy.optimize import minimize\n",
    "\n",
    "%matplotlib inline"
   ]
  },
  {
   "cell_type": "code",
   "execution_count": 2,
   "metadata": {
    "collapsed": true
   },
   "outputs": [],
   "source": [
    "weather_b = pd.read_csv('data/weather_UTC_2012-2016_Berlin.csv', sep=';', decimal=',')\n",
    "weather_b.VALUE_TIME = pd.to_datetime(weather_b.VALUE_TIME)\n",
    "weather_b.set_index('VALUE_TIME', inplace=True)\n",
    "\n",
    "weather_m = pd.read_csv('data/weather_UTC_2012-2016_Munich.csv', sep=';', decimal=',')\n",
    "weather_m.VALUE_TIME = pd.to_datetime(weather_m.VALUE_TIME)\n",
    "weather_m.set_index('VALUE_TIME', inplace=True)\n",
    "\n",
    "weather_d = pd.read_csv('data/weather_UTC_2012-2016_Dusseldorf.csv', sep=';', decimal=',')\n",
    "weather_d.VALUE_TIME = pd.to_datetime(weather_d.VALUE_TIME)\n",
    "weather_d.set_index('VALUE_TIME', inplace=True)"
   ]
  },
  {
   "cell_type": "code",
   "execution_count": 3,
   "metadata": {
    "collapsed": true
   },
   "outputs": [],
   "source": [
    "energy = pd.read_csv('data/production_consumption_2012_2016_scaled.csv', sep=';', decimal=',')\n",
    "energy['timestamp'] = pd.to_datetime(energy['cet_cest_timestamp'])\n",
    "energy.drop(['utc_timestamp', 'cet_cest_timestamp'], axis=1, inplace=True)\n",
    "energy.set_index('timestamp', inplace=True)"
   ]
  },
  {
   "cell_type": "code",
   "execution_count": 4,
   "metadata": {
    "collapsed": true
   },
   "outputs": [],
   "source": [
    "pred_wind = joblib.load('models/wind_prediction_model.sav')\n",
    "pred_sun = joblib.load('models/solar_prediction_model.sav')"
   ]
  },
  {
   "cell_type": "code",
   "execution_count": 5,
   "metadata": {},
   "outputs": [
    {
     "data": {
      "text/html": [
       "<div>\n",
       "<style>\n",
       "    .dataframe thead tr:only-child th {\n",
       "        text-align: right;\n",
       "    }\n",
       "\n",
       "    .dataframe thead th {\n",
       "        text-align: left;\n",
       "    }\n",
       "\n",
       "    .dataframe tbody tr th {\n",
       "        vertical-align: top;\n",
       "    }\n",
       "</style>\n",
       "<table border=\"1\" class=\"dataframe\">\n",
       "  <thead>\n",
       "    <tr style=\"text-align: right;\">\n",
       "      <th></th>\n",
       "      <th>t_2m</th>\n",
       "      <th>precip_1h</th>\n",
       "      <th>global_rad</th>\n",
       "      <th>wind_speed_10m</th>\n",
       "    </tr>\n",
       "    <tr>\n",
       "      <th>VALUE_TIME</th>\n",
       "      <th></th>\n",
       "      <th></th>\n",
       "      <th></th>\n",
       "      <th></th>\n",
       "    </tr>\n",
       "  </thead>\n",
       "  <tbody>\n",
       "    <tr>\n",
       "      <th>2011-12-31 00:00:00</th>\n",
       "      <td>-1.6</td>\n",
       "      <td>0.16</td>\n",
       "      <td>0.0</td>\n",
       "      <td>17.1</td>\n",
       "    </tr>\n",
       "    <tr>\n",
       "      <th>2011-12-31 01:00:00</th>\n",
       "      <td>-1.9</td>\n",
       "      <td>0.08</td>\n",
       "      <td>0.0</td>\n",
       "      <td>14.7</td>\n",
       "    </tr>\n",
       "    <tr>\n",
       "      <th>2011-12-31 02:00:00</th>\n",
       "      <td>-2.1</td>\n",
       "      <td>0.08</td>\n",
       "      <td>0.0</td>\n",
       "      <td>12.3</td>\n",
       "    </tr>\n",
       "    <tr>\n",
       "      <th>2011-12-31 03:00:00</th>\n",
       "      <td>-2.4</td>\n",
       "      <td>0.08</td>\n",
       "      <td>0.0</td>\n",
       "      <td>10.0</td>\n",
       "    </tr>\n",
       "    <tr>\n",
       "      <th>2011-12-31 04:00:00</th>\n",
       "      <td>-2.4</td>\n",
       "      <td>0.03</td>\n",
       "      <td>0.0</td>\n",
       "      <td>9.7</td>\n",
       "    </tr>\n",
       "  </tbody>\n",
       "</table>\n",
       "</div>"
      ],
      "text/plain": [
       "                     t_2m  precip_1h  global_rad  wind_speed_10m\n",
       "VALUE_TIME                                                      \n",
       "2011-12-31 00:00:00  -1.6       0.16         0.0            17.1\n",
       "2011-12-31 01:00:00  -1.9       0.08         0.0            14.7\n",
       "2011-12-31 02:00:00  -2.1       0.08         0.0            12.3\n",
       "2011-12-31 03:00:00  -2.4       0.08         0.0            10.0\n",
       "2011-12-31 04:00:00  -2.4       0.03         0.0             9.7"
      ]
     },
     "execution_count": 5,
     "metadata": {},
     "output_type": "execute_result"
    }
   ],
   "source": [
    "weather_m.head()"
   ]
  },
  {
   "cell_type": "code",
   "execution_count": 6,
   "metadata": {
    "collapsed": true
   },
   "outputs": [],
   "source": [
    "def cost_function(params):\n",
    "    p_hat = params[0]\n",
    "    c_hat = params[1]\n",
    "    b_hat = params[2]\n",
    "    \n",
    "    b = []\n",
    "    for i in range(24):\n",
    "        b[i] = c_hat[i] - p_hat[i] - b_hat[i]\n",
    "    return b"
   ]
  },
  {
   "cell_type": "code",
   "execution_count": 39,
   "metadata": {},
   "outputs": [
    {
     "data": {
      "text/plain": [
       "[<matplotlib.lines.Line2D at 0x2326aa20>,\n",
       " <matplotlib.lines.Line2D at 0x204ef908>,\n",
       " <matplotlib.lines.Line2D at 0x204efdd8>,\n",
       " <matplotlib.lines.Line2D at 0x204ef898>,\n",
       " <matplotlib.lines.Line2D at 0x204ef4e0>,\n",
       " <matplotlib.lines.Line2D at 0x204ef470>,\n",
       " <matplotlib.lines.Line2D at 0x204ef668>,\n",
       " <matplotlib.lines.Line2D at 0x21478240>,\n",
       " <matplotlib.lines.Line2D at 0x21478a20>,\n",
       " <matplotlib.lines.Line2D at 0x21478a58>,\n",
       " <matplotlib.lines.Line2D at 0x21478080>,\n",
       " <matplotlib.lines.Line2D at 0x214782b0>,\n",
       " <matplotlib.lines.Line2D at 0x21478dd8>,\n",
       " <matplotlib.lines.Line2D at 0x21478d68>,\n",
       " <matplotlib.lines.Line2D at 0x21478358>,\n",
       " <matplotlib.lines.Line2D at 0x21478048>,\n",
       " <matplotlib.lines.Line2D at 0x21478160>,\n",
       " <matplotlib.lines.Line2D at 0x21478e80>,\n",
       " <matplotlib.lines.Line2D at 0x21478278>,\n",
       " <matplotlib.lines.Line2D at 0x214780b8>,\n",
       " <matplotlib.lines.Line2D at 0x21478198>,\n",
       " <matplotlib.lines.Line2D at 0x1fc78fd0>,\n",
       " <matplotlib.lines.Line2D at 0x1fc78198>,\n",
       " <matplotlib.lines.Line2D at 0x1fc78b00>]"
      ]
     },
     "execution_count": 39,
     "metadata": {},
     "output_type": "execute_result"
    },
    {
     "data": {
      "image/png": "[encoded data removed]",
      "text/plain": [
       "<matplotlib.figure.Figure at 0x1f26bb00>"
      ]
     },
     "metadata": {},
     "output_type": "display_data"
    }
   ],
   "source": [
    "base = datetime.datetime(2016, 1, 1)\n",
    "battery_pred = np.zeros(24)\n",
    "lag = 24\n",
    "for day in [base + datetime.timedelta(days=x) for x in range(0, 10)]:\n",
    "    next_day =  day+datetime.timedelta(days=1)\n",
    "    \n",
    "    X_solar = np.array(pd.concat([weather_m[(weather_m.index >= day) & (weather_m.index < next_day)][['global_rad']],\n",
    "                            weather_b[(weather_b.index >= day) & (weather_b.index < next_day)][['global_rad']],\n",
    "                            weather_d[(weather_d.index >= day) & (weather_d.index < next_day)][['global_rad']]\n",
    "                           ], axis=1)\n",
    "                )\n",
    "    \n",
    "    X_wind = np.array(pd.concat([weather_m[(weather_m.index >= day) & (weather_m.index < next_day)][['wind_speed_10m']],\n",
    "                            weather_b[(weather_b.index >= day) & (weather_b.index < next_day)][['wind_speed_10m']],\n",
    "                            weather_d[(weather_d.index >= day) & (weather_d.index < next_day)][['wind_speed_10m']]\n",
    "                           ], axis=1)\n",
    "                )\n",
    "    \n",
    "    \n",
    "    solar = np.array(energy[(energy.index >= day) & (energy.index < next_day)]['solarprod'])\n",
    "    wind =  np.array(energy[(energy.index >= day) & (energy.index < next_day)]['windprod'])\n",
    "    production = solar + wind\n",
    "    consumption =  np.array(energy[(energy.index >= day) & (energy.index < next_day)]['consumption'])\n",
    "    model = ARIMA(consumption, order=(2, 0, 1))\n",
    "    ARIMA_fitted = model.fit(disp=-1)\n",
    "    start_idx = consumption.shape[0]\n",
    "    end_idx = start_idx + lag - 1\n",
    "    \n",
    "    wind_pred = pred_wind.predict(X_wind)\n",
    "    solar_pred = pred_sun.predict(X_solar)\n",
    "    production_pred = solar_pred + wind_pred\n",
    "    consumption_pred = ARIMA_fitted.predict(start=start_idx, end=end_idx).reshape(-1, 1)\n",
    "    \n",
    "    #battery = minimize(cost_function, [production_pred, consumption_pred, battery_pred], method='nelder-mead')\n",
    "    battery = production_pred - consumption_pred - battery_pred\n",
    "    battery_pred = battery\n",
    "    \n",
    "\n",
    "plt.figure(figsize=(16,10))\n",
    "plt.plot(production_pred, color='green', label='pred_production')\n",
    "plt.plot(consumption_pred, color='red', label='pred_consumption')\n",
    "plt.plot(battery_pred, color='blue', label='battery', linestyle='--')"
   ]
  },
  {
   "cell_type": "code",
   "execution_count": null,
   "metadata": {
    "collapsed": true
   },
   "outputs": [],
   "source": []
  }
 ],
 "metadata": {
  "kernelspec": {
   "display_name": "Python 2",
   "language": "python",
   "name": "python2"
  },
  "language_info": {
   "codemirror_mode": {
    "name": "ipython",
    "version": 2
   },
   "file_extension": ".py",
   "mimetype": "text/x-python",
   "name": "python",
   "nbconvert_exporter": "python",
   "pygments_lexer": "ipython2",
   "version": "2.7.13"
  }
 },
 "nbformat": 4,
 "nbformat_minor": 2
}

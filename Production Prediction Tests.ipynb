{
 "cells": [
  {
   "cell_type": "code",
   "execution_count": 1,
   "metadata": {
    "collapsed": true
   },
   "outputs": [],
   "source": [
    "import pandas as pd\n",
    "import numpy as np\n",
    "import matplotlib.pyplot as plt\n",
    "from sklearn import linear_model\n",
    "from datetime import datetime"
   ]
  },
  {
   "cell_type": "code",
   "execution_count": 2,
   "metadata": {
    "collapsed": true
   },
   "outputs": [],
   "source": [
    "energy_test = pd.read_csv('data/production_consumption_2017_scaled.csv', sep=';', decimal=',')\n",
    "energy_test['timestamp'] = pd.to_datetime(energy_test['cet_cest_timestamp'])\n",
    "energy_test.drop(['utc_timestamp', 'cet_cest_timestamp'], axis=1, inplace=True)\n",
    "energy_test.set_index('timestamp', inplace=True)\n",
    "\n",
    "energy_train = pd.read_csv('data/production_consumption_2012_2016_scaled.csv', sep=';', decimal=',')\n",
    "energy_train['timestamp'] = pd.to_datetime(energy_train['cet_cest_timestamp'])\n",
    "energy_train.drop(['utc_timestamp', 'cet_cest_timestamp'], axis=1, inplace=True)\n",
    "energy_train.set_index('timestamp', inplace=True)\n",
    "energy_train = energy_train[(energy_train.index >= datetime(2012,1,1)) & (energy_train.index < datetime(2016,12,31))]"
   ]
  },
  {
   "cell_type": "code",
   "execution_count": 3,
   "metadata": {
    "collapsed": true
   },
   "outputs": [],
   "source": [
    "weather_train = pd.read_csv('data/weather_UTC_2012-2016_Berlin.csv', sep=';', decimal=',')\n",
    "weather_train.VALUE_TIME = pd.to_datetime(weather_train.VALUE_TIME)\n",
    "weather_train.set_index('VALUE_TIME', inplace=True)\n",
    "weather_train = weather_train[(weather_train.index>=datetime(2012, 1, 1)) & (weather_train.index < datetime(2016,12,31))]\n",
    "\n",
    "weather_test = pd.read_csv('data/weather_UTC_2017.csv', sep=';', decimal=',')\n",
    "weather_test.VALUE_TIME = pd.to_datetime(weather_test.VALUE_TIME)\n",
    "weather_test.set_index('VALUE_TIME', inplace=True)"
   ]
  },
  {
   "cell_type": "code",
   "execution_count": null,
   "metadata": {
    "collapsed": true
   },
   "outputs": [],
   "source": []
  }
 ],
 "metadata": {
  "kernelspec": {
   "display_name": "Python 2",
   "language": "python",
   "name": "python2"
  },
  "language_info": {
   "codemirror_mode": {
    "name": "ipython",
    "version": 2
   },
   "file_extension": ".py",
   "mimetype": "text/x-python",
   "name": "python",
   "nbconvert_exporter": "python",
   "pygments_lexer": "ipython2",
   "version": "2.7.13"
  }
 },
 "nbformat": 4,
 "nbformat_minor": 2
}
